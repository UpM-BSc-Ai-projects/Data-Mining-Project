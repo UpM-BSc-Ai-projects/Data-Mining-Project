{
 "cells": [
  {
   "cell_type": "markdown",
   "id": "5f7dd362",
   "metadata": {},
   "source": [
    "# Bitcoin Price Predictor – AI306"
   ]
  },
  {
   "cell_type": "code",
   "execution_count": 2,
   "id": "9fa94f67",
   "metadata": {
    "collapsed": true,
    "jupyter": {
     "outputs_hidden": true
    },
    "scrolled": true
   },
   "outputs": [
    {
     "name": "stdout",
     "output_type": "stream",
     "text": [
      "Requirement already satisfied: kagglehub in /home/mohammed/anaconda3/envs/Crypto/lib/python3.12/site-packages (0.3.4)\n",
      "Requirement already satisfied: packaging in /home/mohammed/anaconda3/envs/Crypto/lib/python3.12/site-packages (from kagglehub) (24.1)\n",
      "Requirement already satisfied: requests in /home/mohammed/anaconda3/envs/Crypto/lib/python3.12/site-packages (from kagglehub) (2.32.3)\n",
      "Requirement already satisfied: tqdm in /home/mohammed/anaconda3/envs/Crypto/lib/python3.12/site-packages (from kagglehub) (4.67.1)\n",
      "Requirement already satisfied: charset-normalizer<4,>=2 in /home/mohammed/anaconda3/envs/Crypto/lib/python3.12/site-packages (from requests->kagglehub) (3.3.2)\n",
      "Requirement already satisfied: idna<4,>=2.5 in /home/mohammed/anaconda3/envs/Crypto/lib/python3.12/site-packages (from requests->kagglehub) (3.7)\n",
      "Requirement already satisfied: urllib3<3,>=1.21.1 in /home/mohammed/anaconda3/envs/Crypto/lib/python3.12/site-packages (from requests->kagglehub) (2.2.3)\n",
      "Requirement already satisfied: certifi>=2017.4.17 in /home/mohammed/anaconda3/envs/Crypto/lib/python3.12/site-packages (from requests->kagglehub) (2024.8.30)\n"
     ]
    }
   ],
   "source": [
    "!pip install kagglehub"
   ]
  },
  {
   "cell_type": "code",
   "execution_count": 3,
   "id": "07cde7a1",
   "metadata": {},
   "outputs": [],
   "source": [
    "import kagglehub\n",
    "import shutil\n",
    "import os\n",
    "\n",
    "import numpy as np \n",
    "import pandas as pd"
   ]
  },
  {
   "cell_type": "markdown",
   "id": "4c07bd5c",
   "metadata": {},
   "source": [
    "### Downloading the dataset"
   ]
  },
  {
   "cell_type": "code",
   "execution_count": 4,
   "id": "2990ce69",
   "metadata": {},
   "outputs": [
    {
     "name": "stdout",
     "output_type": "stream",
     "text": [
      "Warning: Looks like you're using an outdated `kagglehub` version, please consider updating (latest version: 0.3.12)\n",
      "Path to dataset files: /home/mohammed/.cache/kagglehub/datasets/mczielinski/bitcoin-historical-data/versions/216\n"
     ]
    }
   ],
   "source": [
    "# Download latest version\n",
    "path = kagglehub.dataset_download(\"mczielinski/bitcoin-historical-data\")\n",
    "\n",
    "print(\"Path to dataset files:\", path)"
   ]
  },
  {
   "cell_type": "markdown",
   "id": "840081dd",
   "metadata": {},
   "source": [
    "### Copying the dataset to the project directory"
   ]
  },
  {
   "cell_type": "code",
   "execution_count": null,
   "id": "f9fbda39",
   "metadata": {},
   "outputs": [
    {
     "name": "stdout",
     "output_type": "stream",
     "text": [
      "File copied successfully.\n"
     ]
    }
   ],
   "source": [
    "# Source and destination paths\n",
    "source_path = os.path.join(path, 'btcusd_1-min_data.csv')\n",
    "destination_path = './data/btcusd_dataset.csv'\n",
    "\n",
    "# Create destination directory if it doesn't exist\n",
    "os.makedirs('./data', exist_ok=True)\n",
    "\n",
    "# Only copy if the file doesn't already exist\n",
    "if not os.path.exists(destination_path):\n",
    "    shutil.copy(source_path, destination_path)\n",
    "    print(\"File copied successfully.\")\n",
    "\n",
    "else:\n",
    "    print(\"File already exists. Skipping copy.\")\n"
   ]
  },
  {
   "cell_type": "markdown",
   "id": "446a92b5",
   "metadata": {},
   "source": [
    "### Reading dataset"
   ]
  },
  {
   "cell_type": "code",
   "execution_count": 6,
   "id": "0ae0a870",
   "metadata": {},
   "outputs": [
    {
     "name": "stderr",
     "output_type": "stream",
     "text": [
      "/tmp/ipykernel_8164/1927658998.py:1: DtypeWarning: Columns (6) have mixed types. Specify dtype option on import or set low_memory=False.\n",
      "  data = pd.read_csv(destination_path)\n"
     ]
    }
   ],
   "source": [
    "data = pd.read_csv(destination_path)"
   ]
  },
  {
   "cell_type": "code",
   "execution_count": 8,
   "id": "ee1065a7",
   "metadata": {},
   "outputs": [
    {
     "data": {
      "text/html": [
       "<div>\n",
       "<style scoped>\n",
       "    .dataframe tbody tr th:only-of-type {\n",
       "        vertical-align: middle;\n",
       "    }\n",
       "\n",
       "    .dataframe tbody tr th {\n",
       "        vertical-align: top;\n",
       "    }\n",
       "\n",
       "    .dataframe thead th {\n",
       "        text-align: right;\n",
       "    }\n",
       "</style>\n",
       "<table border=\"1\" class=\"dataframe\">\n",
       "  <thead>\n",
       "    <tr style=\"text-align: right;\">\n",
       "      <th></th>\n",
       "      <th>Timestamp</th>\n",
       "      <th>Open</th>\n",
       "      <th>High</th>\n",
       "      <th>Low</th>\n",
       "      <th>Close</th>\n",
       "      <th>Volume</th>\n",
       "      <th>datetime</th>\n",
       "    </tr>\n",
       "  </thead>\n",
       "  <tbody>\n",
       "    <tr>\n",
       "      <th>0</th>\n",
       "      <td>1.325412e+09</td>\n",
       "      <td>4.58</td>\n",
       "      <td>4.58</td>\n",
       "      <td>4.58</td>\n",
       "      <td>4.58</td>\n",
       "      <td>0.0</td>\n",
       "      <td>2012-01-01 10:01:00+00:00</td>\n",
       "    </tr>\n",
       "    <tr>\n",
       "      <th>1</th>\n",
       "      <td>1.325412e+09</td>\n",
       "      <td>4.58</td>\n",
       "      <td>4.58</td>\n",
       "      <td>4.58</td>\n",
       "      <td>4.58</td>\n",
       "      <td>0.0</td>\n",
       "      <td>2012-01-01 10:02:00+00:00</td>\n",
       "    </tr>\n",
       "    <tr>\n",
       "      <th>2</th>\n",
       "      <td>1.325412e+09</td>\n",
       "      <td>4.58</td>\n",
       "      <td>4.58</td>\n",
       "      <td>4.58</td>\n",
       "      <td>4.58</td>\n",
       "      <td>0.0</td>\n",
       "      <td>2012-01-01 10:03:00+00:00</td>\n",
       "    </tr>\n",
       "    <tr>\n",
       "      <th>3</th>\n",
       "      <td>1.325412e+09</td>\n",
       "      <td>4.58</td>\n",
       "      <td>4.58</td>\n",
       "      <td>4.58</td>\n",
       "      <td>4.58</td>\n",
       "      <td>0.0</td>\n",
       "      <td>2012-01-01 10:04:00+00:00</td>\n",
       "    </tr>\n",
       "    <tr>\n",
       "      <th>4</th>\n",
       "      <td>1.325412e+09</td>\n",
       "      <td>4.58</td>\n",
       "      <td>4.58</td>\n",
       "      <td>4.58</td>\n",
       "      <td>4.58</td>\n",
       "      <td>0.0</td>\n",
       "      <td>2012-01-01 10:05:00+00:00</td>\n",
       "    </tr>\n",
       "  </tbody>\n",
       "</table>\n",
       "</div>"
      ],
      "text/plain": [
       "      Timestamp  Open  High   Low  Close  Volume                   datetime\n",
       "0  1.325412e+09  4.58  4.58  4.58   4.58     0.0  2012-01-01 10:01:00+00:00\n",
       "1  1.325412e+09  4.58  4.58  4.58   4.58     0.0  2012-01-01 10:02:00+00:00\n",
       "2  1.325412e+09  4.58  4.58  4.58   4.58     0.0  2012-01-01 10:03:00+00:00\n",
       "3  1.325412e+09  4.58  4.58  4.58   4.58     0.0  2012-01-01 10:04:00+00:00\n",
       "4  1.325412e+09  4.58  4.58  4.58   4.58     0.0  2012-01-01 10:05:00+00:00"
      ]
     },
     "execution_count": 8,
     "metadata": {},
     "output_type": "execute_result"
    }
   ],
   "source": [
    "data.head()"
   ]
  },
  {
   "cell_type": "markdown",
   "id": "20de3788",
   "metadata": {},
   "source": [
    "### Info about dataset"
   ]
  },
  {
   "cell_type": "code",
   "execution_count": 10,
   "id": "6885f6bf",
   "metadata": {},
   "outputs": [
    {
     "name": "stdout",
     "output_type": "stream",
     "text": [
      "Shape of the dataset:  (7001004, 7)\n"
     ]
    }
   ],
   "source": [
    "print('Shape of the dataset: ', data.shape)"
   ]
  },
  {
   "cell_type": "code",
   "execution_count": 11,
   "id": "140ebc38",
   "metadata": {},
   "outputs": [
    {
     "name": "stdout",
     "output_type": "stream",
     "text": [
      "<class 'pandas.core.frame.DataFrame'>\n",
      "RangeIndex: 7001004 entries, 0 to 7001003\n",
      "Data columns (total 7 columns):\n",
      " #   Column     Dtype  \n",
      "---  ------     -----  \n",
      " 0   Timestamp  float64\n",
      " 1   Open       float64\n",
      " 2   High       float64\n",
      " 3   Low        float64\n",
      " 4   Close      float64\n",
      " 5   Volume     float64\n",
      " 6   datetime   object \n",
      "dtypes: float64(6), object(1)\n",
      "memory usage: 373.9+ MB\n",
      "info of the dataset: \n",
      "None\n",
      "\n"
     ]
    }
   ],
   "source": [
    "print(f\"info of the dataset: \\n{data.info()}\\n\")"
   ]
  },
  {
   "cell_type": "code",
   "execution_count": 12,
   "id": "5031f900",
   "metadata": {},
   "outputs": [
    {
     "name": "stdout",
     "output_type": "stream",
     "text": [
      "describe of the dataset: \n",
      "          Timestamp          Open          High           Low         Close  \\\n",
      "count  7.001004e+06  7.001004e+06  7.001004e+06  7.001004e+06  7.001004e+06   \n",
      "mean   1.535443e+09  1.729476e+04  1.730170e+04  1.728760e+04  1.729476e+04   \n",
      "std    1.212619e+08  2.389940e+04  2.390744e+04  2.389117e+04  2.389938e+04   \n",
      "min    1.325412e+09  3.800000e+00  3.800000e+00  3.800000e+00  3.800000e+00   \n",
      "25%    1.430427e+09  4.239100e+02  4.240000e+02  4.237600e+02  4.239300e+02   \n",
      "50%    1.535442e+09  6.575210e+03  6.578515e+03  6.572320e+03  6.575290e+03   \n",
      "75%    1.640457e+09  2.720000e+04  2.720400e+04  2.719600e+04  2.720000e+04   \n",
      "max    1.745542e+09  1.091110e+05  1.093560e+05  1.087940e+05  1.090360e+05   \n",
      "\n",
      "             Volume  \n",
      "count  7.001004e+06  \n",
      "mean   5.308327e+00  \n",
      "std    2.253495e+01  \n",
      "min    0.000000e+00  \n",
      "25%    1.815710e-02  \n",
      "50%    4.703309e-01  \n",
      "75%    3.039586e+00  \n",
      "max    5.853852e+03  \n",
      "\n"
     ]
    }
   ],
   "source": [
    "print(f\"describe of the dataset: \\n{data.describe()}\\n\")"
   ]
  },
  {
   "cell_type": "code",
   "execution_count": 13,
   "id": "11a7fe94",
   "metadata": {},
   "outputs": [
    {
     "name": "stdout",
     "output_type": "stream",
     "text": [
      "null values of the dataset: \n",
      "Timestamp         0\n",
      "Open              0\n",
      "High              0\n",
      "Low               0\n",
      "Close             0\n",
      "Volume            0\n",
      "datetime     218724\n",
      "dtype: int64\n",
      "\n"
     ]
    }
   ],
   "source": [
    "print(f\"null values of the dataset: \\n{data.isnull().sum()}\\n\")"
   ]
  },
  {
   "cell_type": "code",
   "execution_count": 14,
   "id": "97388800",
   "metadata": {},
   "outputs": [
    {
     "name": "stdout",
     "output_type": "stream",
     "text": [
      "duplicated values of the dataset: \n",
      "0\n",
      "\n"
     ]
    }
   ],
   "source": [
    "print(f\"duplicated values of the dataset: \\n{data.duplicated().sum()}\\n\")"
   ]
  },
  {
   "cell_type": "markdown",
   "id": "900ddfe2",
   "metadata": {},
   "source": [
    "### Cleaning Dataset"
   ]
  },
  {
   "cell_type": "code",
   "execution_count": 19,
   "id": "9e460264",
   "metadata": {},
   "outputs": [
    {
     "name": "stdout",
     "output_type": "stream",
     "text": [
      "      Timestamp  Open  High   Low  Close  Volume\n",
      "0  1.325412e+09  4.58  4.58  4.58   4.58     0.0\n",
      "1  1.325412e+09  4.58  4.58  4.58   4.58     0.0\n",
      "2  1.325412e+09  4.58  4.58  4.58   4.58     0.0\n",
      "3  1.325412e+09  4.58  4.58  4.58   4.58     0.0\n",
      "4  1.325412e+09  4.58  4.58  4.58   4.58     0.0\n",
      "\n",
      "\n",
      "null values of the dataset: \n",
      "Timestamp    0\n",
      "Open         0\n",
      "High         0\n",
      "Low          0\n",
      "Close        0\n",
      "Volume       0\n",
      "dtype: int64\n",
      "\n"
     ]
    }
   ],
   "source": [
    "# Drop the 'datetime' column\n",
    "data = data.drop(columns=['datetime'])\n",
    "\n",
    "# view the updated DataFrame\n",
    "print(data.head())\n",
    "print(f\"\\n\\nnull values of the dataset: \\n{data.isnull().sum()}\\n\")"
   ]
  },
  {
   "cell_type": "code",
   "execution_count": 21,
   "id": "eef1ec19",
   "metadata": {},
   "outputs": [
    {
     "name": "stdout",
     "output_type": "stream",
     "text": [
      "      Timestamp  Open  High   Low  Close  Volume            datetime\n",
      "0  1.325412e+09  4.58  4.58  4.58   4.58     0.0 2012-01-01 10:01:00\n",
      "1  1.325412e+09  4.58  4.58  4.58   4.58     0.0 2012-01-01 10:02:00\n",
      "2  1.325412e+09  4.58  4.58  4.58   4.58     0.0 2012-01-01 10:03:00\n",
      "3  1.325412e+09  4.58  4.58  4.58   4.58     0.0 2012-01-01 10:04:00\n",
      "4  1.325412e+09  4.58  4.58  4.58   4.58     0.0 2012-01-01 10:05:00\n"
     ]
    }
   ],
   "source": [
    "# Convert Unix timestamp (seconds since 00:00:00 UTC January 1, 1970) to datetime\n",
    "data['datetime'] = pd.to_datetime(data['Timestamp'], unit='s')\n",
    "\n",
    "print(data.head())"
   ]
  },
  {
   "cell_type": "code",
   "execution_count": 22,
   "id": "7c83b90a",
   "metadata": {},
   "outputs": [
    {
     "name": "stdout",
     "output_type": "stream",
     "text": [
      "data Null/NA Values before fill: 6960\n",
      "data Null/NA Values after fill: 0\n"
     ]
    }
   ],
   "source": [
    "# ensure the data is continuous and their are no missing values or rows,\n",
    "# Reindexes the data to have a row for every minute — even if that minute was missing in the original data.\n",
    "continuous_data = data.set_index('datetime').asfreq('min')\n",
    "print('data Null/NA Values before fill:', continuous_data.isnull().values.sum())\n",
    "\n",
    "# fill in and interpolate missing values after re-indexing is done\n",
    "continuous_data.interpolate(method='time', inplace=True)  # Time-based interpolation\n",
    "continuous_data.ffill(inplace=True) # forwards fill missing values\n",
    "\n",
    "continuous_data.reset_index(inplace=True) # Moves 'datetime' back from the index to a regular column\n",
    "print('data Null/NA Values after fill:', continuous_data.isnull().values.sum())\n"
   ]
  }
 ],
 "metadata": {
  "kernelspec": {
   "display_name": "Python 3 (ipykernel)",
   "language": "python",
   "name": "python3"
  },
  "language_info": {
   "codemirror_mode": {
    "name": "ipython",
    "version": 3
   },
   "file_extension": ".py",
   "mimetype": "text/x-python",
   "name": "python",
   "nbconvert_exporter": "python",
   "pygments_lexer": "ipython3",
   "version": "3.12.9"
  }
 },
 "nbformat": 4,
 "nbformat_minor": 5
}
