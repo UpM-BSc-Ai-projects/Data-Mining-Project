{
 "cells": [
  {
   "cell_type": "code",
   "execution_count": null,
   "id": "ae5e595b",
   "metadata": {},
   "outputs": [
    {
     "name": "stdout",
     "output_type": "stream",
     "text": [
      "Requirement already satisfied: momentfm in c:\\users\\4310129\\appdata\\local\\anaconda3\\envs\\ai417-dl\\lib\\site-packages (0.1.4)\n",
      "Requirement already satisfied: huggingface-hub==0.24.0 in c:\\users\\4310129\\appdata\\local\\anaconda3\\envs\\ai417-dl\\lib\\site-packages (from momentfm) (0.24.0)\n",
      "Requirement already satisfied: numpy==1.25.2 in c:\\users\\4310129\\appdata\\local\\anaconda3\\envs\\ai417-dl\\lib\\site-packages (from momentfm) (1.25.2)\n",
      "Requirement already satisfied: torch~=2.0 in c:\\users\\4310129\\appdata\\local\\anaconda3\\envs\\ai417-dl\\lib\\site-packages (from momentfm) (2.5.1)\n",
      "Requirement already satisfied: transformers==4.33.3 in c:\\users\\4310129\\appdata\\local\\anaconda3\\envs\\ai417-dl\\lib\\site-packages (from momentfm) (4.33.3)\n",
      "Requirement already satisfied: filelock in c:\\users\\4310129\\appdata\\local\\anaconda3\\envs\\ai417-dl\\lib\\site-packages (from huggingface-hub==0.24.0->momentfm) (3.13.1)\n",
      "Requirement already satisfied: fsspec>=2023.5.0 in c:\\users\\4310129\\appdata\\local\\anaconda3\\envs\\ai417-dl\\lib\\site-packages (from huggingface-hub==0.24.0->momentfm) (2025.2.0)\n",
      "Requirement already satisfied: packaging>=20.9 in c:\\users\\4310129\\appdata\\local\\anaconda3\\envs\\ai417-dl\\lib\\site-packages (from huggingface-hub==0.24.0->momentfm) (24.2)\n",
      "Requirement already satisfied: pyyaml>=5.1 in c:\\users\\4310129\\appdata\\local\\anaconda3\\envs\\ai417-dl\\lib\\site-packages (from huggingface-hub==0.24.0->momentfm) (6.0.2)\n",
      "Requirement already satisfied: requests in c:\\users\\4310129\\appdata\\local\\anaconda3\\envs\\ai417-dl\\lib\\site-packages (from huggingface-hub==0.24.0->momentfm) (2.32.3)\n",
      "Requirement already satisfied: tqdm>=4.42.1 in c:\\users\\4310129\\appdata\\local\\anaconda3\\envs\\ai417-dl\\lib\\site-packages (from huggingface-hub==0.24.0->momentfm) (4.67.1)\n",
      "Requirement already satisfied: typing-extensions>=3.7.4.3 in c:\\users\\4310129\\appdata\\local\\anaconda3\\envs\\ai417-dl\\lib\\site-packages (from huggingface-hub==0.24.0->momentfm) (4.12.2)\n",
      "Requirement already satisfied: regex!=2019.12.17 in c:\\users\\4310129\\appdata\\local\\anaconda3\\envs\\ai417-dl\\lib\\site-packages (from transformers==4.33.3->momentfm) (2024.11.6)\n",
      "Requirement already satisfied: tokenizers!=0.11.3,<0.14,>=0.11.1 in c:\\users\\4310129\\appdata\\local\\anaconda3\\envs\\ai417-dl\\lib\\site-packages (from transformers==4.33.3->momentfm) (0.13.3)\n",
      "Requirement already satisfied: safetensors>=0.3.1 in c:\\users\\4310129\\appdata\\local\\anaconda3\\envs\\ai417-dl\\lib\\site-packages (from transformers==4.33.3->momentfm) (0.5.3)\n",
      "Requirement already satisfied: networkx in c:\\users\\4310129\\appdata\\local\\anaconda3\\envs\\ai417-dl\\lib\\site-packages (from torch~=2.0->momentfm) (3.4.2)\n",
      "Requirement already satisfied: jinja2 in c:\\users\\4310129\\appdata\\local\\anaconda3\\envs\\ai417-dl\\lib\\site-packages (from torch~=2.0->momentfm) (3.1.5)\n",
      "Requirement already satisfied: sympy==1.13.1 in c:\\users\\4310129\\appdata\\local\\anaconda3\\envs\\ai417-dl\\lib\\site-packages (from torch~=2.0->momentfm) (1.13.1)\n",
      "Requirement already satisfied: mpmath<1.4,>=1.1.0 in c:\\users\\4310129\\appdata\\local\\anaconda3\\envs\\ai417-dl\\lib\\site-packages (from sympy==1.13.1->torch~=2.0->momentfm) (1.3.0)\n",
      "Requirement already satisfied: colorama in c:\\users\\4310129\\appdata\\local\\anaconda3\\envs\\ai417-dl\\lib\\site-packages (from tqdm>=4.42.1->huggingface-hub==0.24.0->momentfm) (0.4.6)\n",
      "Requirement already satisfied: MarkupSafe>=2.0 in c:\\users\\4310129\\appdata\\local\\anaconda3\\envs\\ai417-dl\\lib\\site-packages (from jinja2->torch~=2.0->momentfm) (2.1.3)\n",
      "Requirement already satisfied: charset-normalizer<4,>=2 in c:\\users\\4310129\\appdata\\local\\anaconda3\\envs\\ai417-dl\\lib\\site-packages (from requests->huggingface-hub==0.24.0->momentfm) (3.3.2)\n",
      "Requirement already satisfied: idna<4,>=2.5 in c:\\users\\4310129\\appdata\\local\\anaconda3\\envs\\ai417-dl\\lib\\site-packages (from requests->huggingface-hub==0.24.0->momentfm) (3.7)\n",
      "Requirement already satisfied: urllib3<3,>=1.21.1 in c:\\users\\4310129\\appdata\\local\\anaconda3\\envs\\ai417-dl\\lib\\site-packages (from requests->huggingface-hub==0.24.0->momentfm) (2.3.0)\n",
      "Requirement already satisfied: certifi>=2017.4.17 in c:\\users\\4310129\\appdata\\local\\anaconda3\\envs\\ai417-dl\\lib\\site-packages (from requests->huggingface-hub==0.24.0->momentfm) (2025.4.26)\n"
     ]
    }
   ],
   "source": [
    "# !pip install momentfm"
   ]
  },
  {
   "cell_type": "code",
   "execution_count": 15,
   "id": "198ffe16",
   "metadata": {},
   "outputs": [],
   "source": [
    "import numpy as np\n",
    "import pandas as pd\n",
    "from torch.utils.data import Dataset, DataLoader\n",
    "import torch\n",
    "from momentfm import MOMENTPipeline\n",
    "\n",
    "import torch.optim as optim\n",
    "from torch import nn\n",
    "from torchmetrics import MeanSquaredError, MeanAbsoluteError"
   ]
  },
  {
   "cell_type": "code",
   "execution_count": 16,
   "id": "80d2a95e",
   "metadata": {},
   "outputs": [
    {
     "name": "stdout",
     "output_type": "stream",
     "text": [
      "(72666, 8)\n"
     ]
    },
    {
     "data": {
      "text/html": [
       "<div>\n",
       "<style scoped>\n",
       "    .dataframe tbody tr th:only-of-type {\n",
       "        vertical-align: middle;\n",
       "    }\n",
       "\n",
       "    .dataframe tbody tr th {\n",
       "        vertical-align: top;\n",
       "    }\n",
       "\n",
       "    .dataframe thead th {\n",
       "        text-align: right;\n",
       "    }\n",
       "</style>\n",
       "<table border=\"1\" class=\"dataframe\">\n",
       "  <thead>\n",
       "    <tr style=\"text-align: right;\">\n",
       "      <th></th>\n",
       "      <th>datetime</th>\n",
       "      <th>Timestamp</th>\n",
       "      <th>Open</th>\n",
       "      <th>High</th>\n",
       "      <th>Low</th>\n",
       "      <th>Close</th>\n",
       "      <th>SMA_200</th>\n",
       "      <th>ATR_168</th>\n",
       "    </tr>\n",
       "  </thead>\n",
       "  <tbody>\n",
       "    <tr>\n",
       "      <th>0</th>\n",
       "      <td>2017-01-09 07:00:00</td>\n",
       "      <td>1.483945e+09</td>\n",
       "      <td>886.01</td>\n",
       "      <td>892.00</td>\n",
       "      <td>879.21</td>\n",
       "      <td>891.67</td>\n",
       "      <td>979.04320</td>\n",
       "      <td>19.200060</td>\n",
       "    </tr>\n",
       "    <tr>\n",
       "      <th>1</th>\n",
       "      <td>2017-01-09 08:00:00</td>\n",
       "      <td>1.483949e+09</td>\n",
       "      <td>891.68</td>\n",
       "      <td>891.98</td>\n",
       "      <td>884.84</td>\n",
       "      <td>888.77</td>\n",
       "      <td>978.68140</td>\n",
       "      <td>19.235417</td>\n",
       "    </tr>\n",
       "    <tr>\n",
       "      <th>2</th>\n",
       "      <td>2017-01-09 09:00:00</td>\n",
       "      <td>1.483952e+09</td>\n",
       "      <td>888.77</td>\n",
       "      <td>888.99</td>\n",
       "      <td>880.42</td>\n",
       "      <td>884.65</td>\n",
       "      <td>978.29765</td>\n",
       "      <td>19.273333</td>\n",
       "    </tr>\n",
       "    <tr>\n",
       "      <th>3</th>\n",
       "      <td>2017-01-09 10:00:00</td>\n",
       "      <td>1.483956e+09</td>\n",
       "      <td>884.65</td>\n",
       "      <td>899.56</td>\n",
       "      <td>884.65</td>\n",
       "      <td>894.41</td>\n",
       "      <td>977.95505</td>\n",
       "      <td>19.346607</td>\n",
       "    </tr>\n",
       "    <tr>\n",
       "      <th>4</th>\n",
       "      <td>2017-01-09 11:00:00</td>\n",
       "      <td>1.483960e+09</td>\n",
       "      <td>894.41</td>\n",
       "      <td>898.69</td>\n",
       "      <td>890.04</td>\n",
       "      <td>894.27</td>\n",
       "      <td>977.60850</td>\n",
       "      <td>19.385000</td>\n",
       "    </tr>\n",
       "  </tbody>\n",
       "</table>\n",
       "</div>"
      ],
      "text/plain": [
       "             datetime     Timestamp    Open    High     Low   Close  \\\n",
       "0 2017-01-09 07:00:00  1.483945e+09  886.01  892.00  879.21  891.67   \n",
       "1 2017-01-09 08:00:00  1.483949e+09  891.68  891.98  884.84  888.77   \n",
       "2 2017-01-09 09:00:00  1.483952e+09  888.77  888.99  880.42  884.65   \n",
       "3 2017-01-09 10:00:00  1.483956e+09  884.65  899.56  884.65  894.41   \n",
       "4 2017-01-09 11:00:00  1.483960e+09  894.41  898.69  890.04  894.27   \n",
       "\n",
       "     SMA_200    ATR_168  \n",
       "0  979.04320  19.200060  \n",
       "1  978.68140  19.235417  \n",
       "2  978.29765  19.273333  \n",
       "3  977.95505  19.346607  \n",
       "4  977.60850  19.385000  "
      ]
     },
     "execution_count": 16,
     "metadata": {},
     "output_type": "execute_result"
    }
   ],
   "source": [
    "# Load data\n",
    "df = pd.read_csv(\"../data/preprocessed_hourly_data.csv\", parse_dates=['datetime'])\n",
    "df = df.sort_values('datetime').reset_index(drop=True)\n",
    "\n",
    "# Select features and target\n",
    "features = ['Open', 'High', 'Low', 'Close', 'SMA_200', 'ATR_168']\n",
    "target = 'Close'\n",
    "data = df[features].values.astype(np.float32)\n",
    "# data = np.log2(data + 1)\n",
    "\n",
    "print(df.shape)\n",
    "df.head()"
   ]
  },
  {
   "cell_type": "code",
   "execution_count": 17,
   "id": "99259d63",
   "metadata": {},
   "outputs": [
    {
     "name": "stdout",
     "output_type": "stream",
     "text": [
      "(6, 512) (360,)\n",
      "(71795, 6, 512) (71795, 360)\n"
     ]
    }
   ],
   "source": [
    "# Normalize features channel-wise (fit on train portion only)\n",
    "n_total = len(data)\n",
    "split_idx = int(0.8 * n_total)\n",
    "\n",
    "# Create sliding windows\n",
    "input_len = 512\n",
    "horizon = 360 # forecast horizon, 360 hours = 15 days\n",
    "\n",
    "windows, targets = [], []\n",
    "for i in range(n_total - input_len - horizon + 1):\n",
    "    inp = data[i:i+input_len, :].T  # shape: (channels, 512)\n",
    "    tgt = data[i+input_len:i+input_len+horizon, features.index(target)]  # Close prices\n",
    "    windows.append(inp)\n",
    "    targets.append(tgt)\n",
    "print(inp.shape, tgt.shape)\n",
    "\n",
    "windows = np.stack(windows)   # shape: (N_windows, channels, input_len=512)\n",
    "targets = np.stack(targets)   # shape: (N_windows, horizon=360)\n",
    "\n",
    "print(windows.shape, targets.shape)"
   ]
  },
  {
   "cell_type": "code",
   "execution_count": 18,
   "id": "a4ff4627",
   "metadata": {},
   "outputs": [
    {
     "name": "stdout",
     "output_type": "stream",
     "text": [
      "Total number of windows: 71795\n"
     ]
    }
   ],
   "source": [
    "# Split into train/val/test (chronological)\n",
    "n_windows = len(windows)\n",
    "print(f\"Total number of windows: {n_windows}\")\n",
    "\n",
    "train_end = int(0.8 * n_windows)\n",
    "val_end = int(0.9 * n_windows)\n",
    "train_X, val_X, test_X = windows[:train_end], windows[train_end:val_end], windows[val_end:]\n",
    "train_y, val_y, test_y = targets[:train_end], targets[train_end:val_end], targets[val_end:]"
   ]
  },
  {
   "cell_type": "code",
   "execution_count": 19,
   "id": "0bdb9061",
   "metadata": {},
   "outputs": [],
   "source": [
    "class ForecastDataset(Dataset):\n",
    "    def __init__(self, X, Y):\n",
    "        self.X = torch.from_numpy(X).float()  # shape (N, C, L): (N_windows, channels=6, input_len=512)\n",
    "        self.Y = torch.from_numpy(Y).float()  # shape (N, H): (N_windows, horizon=360)\n",
    "    def __len__(self):\n",
    "        return len(self.X)\n",
    "    def __getitem__(self, idx):\n",
    "        timeseries = self.X[idx]              # (C, L)\n",
    "        # print(timeseries.shape)\n",
    "        forecast = self.Y[idx]               # (H,)\n",
    "        input_mask = torch.ones(timeseries.shape[-1])  # (L,), all observed\n",
    "        # print(input_mask.shape)\n",
    "        return timeseries, forecast, input_mask\n"
   ]
  },
  {
   "cell_type": "code",
   "execution_count": 20,
   "id": "140609d4",
   "metadata": {},
   "outputs": [],
   "source": [
    "train_ds = ForecastDataset(train_X, train_y)\n",
    "val_ds   = ForecastDataset(val_X,   val_y)\n",
    "test_ds  = ForecastDataset(test_X,  test_y)\n",
    "\n",
    "train_loader = DataLoader(train_ds, batch_size=16, shuffle=True)\n",
    "val_loader   = DataLoader(val_ds,   batch_size=16, shuffle=False)\n",
    "test_loader  = DataLoader(test_ds,  batch_size=16, shuffle=False)"
   ]
  },
  {
   "cell_type": "code",
   "execution_count": 21,
   "id": "32ed6597",
   "metadata": {},
   "outputs": [
    {
     "name": "stderr",
     "output_type": "stream",
     "text": [
      "c:\\Users\\4310129\\AppData\\Local\\anaconda3\\envs\\AI417-DL\\lib\\site-packages\\momentfm\\models\\moment.py:174: UserWarning: Only reconstruction head is pre-trained. Classification and forecasting heads must be fine-tuned.\n",
      "  warnings.warn(\"Only reconstruction head is pre-trained. Classification and forecasting heads must be fine-tuned.\")\n"
     ]
    },
    {
     "data": {
      "text/plain": [
       "MOMENTPipeline(\n",
       "  (normalizer): RevIN()\n",
       "  (tokenizer): Patching()\n",
       "  (patch_embedding): PatchEmbedding(\n",
       "    (value_embedding): Linear(in_features=8, out_features=512, bias=False)\n",
       "    (position_embedding): PositionalEmbedding()\n",
       "    (dropout): Dropout(p=0.1, inplace=False)\n",
       "  )\n",
       "  (encoder): T5Stack(\n",
       "    (embed_tokens): Embedding(32128, 512)\n",
       "    (block): ModuleList(\n",
       "      (0): T5Block(\n",
       "        (layer): ModuleList(\n",
       "          (0): T5LayerSelfAttention(\n",
       "            (SelfAttention): T5Attention(\n",
       "              (q): Linear(in_features=512, out_features=384, bias=False)\n",
       "              (k): Linear(in_features=512, out_features=384, bias=False)\n",
       "              (v): Linear(in_features=512, out_features=384, bias=False)\n",
       "              (o): Linear(in_features=384, out_features=512, bias=False)\n",
       "              (relative_attention_bias): Embedding(32, 6)\n",
       "            )\n",
       "            (layer_norm): T5LayerNorm()\n",
       "            (dropout): Dropout(p=0.1, inplace=False)\n",
       "          )\n",
       "          (1): T5LayerFF(\n",
       "            (DenseReluDense): T5DenseGatedActDense(\n",
       "              (wi_0): Linear(in_features=512, out_features=1024, bias=False)\n",
       "              (wi_1): Linear(in_features=512, out_features=1024, bias=False)\n",
       "              (wo): Linear(in_features=1024, out_features=512, bias=False)\n",
       "              (dropout): Dropout(p=0.1, inplace=False)\n",
       "              (act): NewGELUActivation()\n",
       "            )\n",
       "            (layer_norm): T5LayerNorm()\n",
       "            (dropout): Dropout(p=0.1, inplace=False)\n",
       "          )\n",
       "        )\n",
       "      )\n",
       "      (1-7): 7 x T5Block(\n",
       "        (layer): ModuleList(\n",
       "          (0): T5LayerSelfAttention(\n",
       "            (SelfAttention): T5Attention(\n",
       "              (q): Linear(in_features=512, out_features=384, bias=False)\n",
       "              (k): Linear(in_features=512, out_features=384, bias=False)\n",
       "              (v): Linear(in_features=512, out_features=384, bias=False)\n",
       "              (o): Linear(in_features=384, out_features=512, bias=False)\n",
       "            )\n",
       "            (layer_norm): T5LayerNorm()\n",
       "            (dropout): Dropout(p=0.1, inplace=False)\n",
       "          )\n",
       "          (1): T5LayerFF(\n",
       "            (DenseReluDense): T5DenseGatedActDense(\n",
       "              (wi_0): Linear(in_features=512, out_features=1024, bias=False)\n",
       "              (wi_1): Linear(in_features=512, out_features=1024, bias=False)\n",
       "              (wo): Linear(in_features=1024, out_features=512, bias=False)\n",
       "              (dropout): Dropout(p=0.1, inplace=False)\n",
       "              (act): NewGELUActivation()\n",
       "            )\n",
       "            (layer_norm): T5LayerNorm()\n",
       "            (dropout): Dropout(p=0.1, inplace=False)\n",
       "          )\n",
       "        )\n",
       "      )\n",
       "    )\n",
       "    (final_layer_norm): T5LayerNorm()\n",
       "    (dropout): Dropout(p=0.1, inplace=False)\n",
       "  )\n",
       "  (head): ForecastingHead(\n",
       "    (flatten): Flatten(start_dim=-2, end_dim=-1)\n",
       "    (dropout): Dropout(p=0.1, inplace=False)\n",
       "    (linear): Linear(in_features=32768, out_features=360, bias=True)\n",
       "  )\n",
       ")"
      ]
     },
     "execution_count": 21,
     "metadata": {},
     "output_type": "execute_result"
    }
   ],
   "source": [
    "\n",
    "# Load MOMENT pipeline for forecasting\n",
    "model = MOMENTPipeline.from_pretrained(\n",
    "    \"AutonLab/MOMENT-1-small\",\n",
    "    model_kwargs={\n",
    "        'task_name': 'forecasting',\n",
    "        'forecast_horizon': horizon,\n",
    "        # 'forecast_dim': 1,\n",
    "        'head_dropout': 0.1,\n",
    "        'weight_decay': 0.0,\n",
    "        'freeze_encoder': True,\n",
    "        'freeze_embedder': True,\n",
    "        'freeze_head': False\n",
    "    }\n",
    ")\n",
    "model.init()\n",
    "# model = moment_pipe.model  # The PyTorch model with forecasting head\n",
    "device = torch.device('cuda' if torch.cuda.is_available() else 'cpu')\n",
    "model.to(device)"
   ]
  },
  {
   "cell_type": "code",
   "execution_count": null,
   "id": "2c6622f8",
   "metadata": {},
   "outputs": [],
   "source": [
    "num_epochs = 50\n",
    "\n",
    "# Loss functions\n",
    "mse_loss_fn = nn.MSELoss()\n",
    "huber_loss_fn = nn.SmoothL1Loss()\n",
    "mse_loss_fn.to(device)\n",
    "huber_loss_fn.to(device)\n",
    "\n",
    "# Optimizer\n",
    "optimizer = optim.Adam(model.parameters(), lr=1e-3, weight_decay=1e-2)\n",
    "\n",
    "# Metrics\n",
    "metric_mse = MeanSquaredError().to(device)\n",
    "metric_mae = MeanAbsoluteError().to(device)\n",
    "\n",
    "# Scheduler\n",
    "from torch.optim.lr_scheduler import OneCycleLR\n",
    "total_steps = len(train_loader) * num_epochs\n",
    "scheduler = OneCycleLR(optimizer, max_lr=1e-3, total_steps=total_steps)\n",
    "max_grad_norm = 5.0\n"
   ]
  },
  {
   "cell_type": "code",
   "execution_count": 23,
   "id": "52a99c31",
   "metadata": {},
   "outputs": [
    {
     "name": "stderr",
     "output_type": "stream",
     "text": [
      "c:\\Users\\4310129\\AppData\\Local\\anaconda3\\envs\\AI417-DL\\lib\\site-packages\\torch\\_dynamo\\eval_frame.py:632: UserWarning: torch.utils.checkpoint: the use_reentrant parameter should be passed explicitly. In version 2.5 we will raise an exception if use_reentrant is not passed. use_reentrant=False is recommended, but if you need to preserve the current default behavior, you can pass use_reentrant=True. Refer to docs for more details on the differences between the two variants.\n",
      "  return fn(*args, **kwargs)\n",
      "c:\\Users\\4310129\\AppData\\Local\\anaconda3\\envs\\AI417-DL\\lib\\site-packages\\torch\\utils\\checkpoint.py:87: UserWarning: None of the inputs have requires_grad=True. Gradients will be None\n",
      "  warnings.warn(\n"
     ]
    },
    {
     "name": "stdout",
     "output_type": "stream",
     "text": [
      "Epoch 1 | Train Loss 7251805.3917 | Val Loss 2520.7901  | Val MSE 13548272.0000, Val MAE 2520.4963\n",
      "Epoch 2 | Train Loss 6605083.3149 | Val Loss 2562.2420  | Val MSE 13787788.0000, Val MAE 2562.0317\n",
      "Epoch 3 | Train Loss 6333807.2687 | Val Loss 2601.1272  | Val MSE 14012710.0000, Val MAE 2600.9749\n",
      "Epoch 4 | Train Loss 6156141.8997 | Val Loss 2629.7925  | Val MSE 14518103.0000, Val MAE 2629.7764\n",
      "Epoch 5 | Train Loss 6006468.0115 | Val Loss 2633.5147  | Val MSE 14391007.0000, Val MAE 2633.4150\n",
      "Epoch 6 | Train Loss 5866773.9225 | Val Loss 2619.7722  | Val MSE 14360980.0000, Val MAE 2619.4861\n",
      "Epoch 7 | Train Loss 5782399.9755 | Val Loss 2630.6125  | Val MSE 14275199.0000, Val MAE 2630.5166\n",
      "Epoch 8 | Train Loss 5675613.1404 | Val Loss 2645.9644  | Val MSE 14429813.0000, Val MAE 2645.8313\n",
      "Epoch 9 | Train Loss 5596783.4570 | Val Loss 2660.5183  | Val MSE 14547211.0000, Val MAE 2660.4226\n",
      "Epoch 10 | Train Loss 5522276.1670 | Val Loss 2677.6350  | Val MSE 14926924.0000, Val MAE 2677.5269\n",
      "Epoch 11 | Train Loss 5448169.3796 | Val Loss 2673.8273  | Val MSE 14798192.0000, Val MAE 2673.9290\n",
      "Epoch 12 | Train Loss 5399082.5062 | Val Loss 2676.9619  | Val MSE 14761505.0000, Val MAE 2677.0347\n",
      "Epoch 13 | Train Loss 5339740.3275 | Val Loss 2692.8660  | Val MSE 14997691.0000, Val MAE 2692.9578\n",
      "Epoch 14 | Train Loss 5286989.3656 | Val Loss 2688.2498  | Val MSE 14912365.0000, Val MAE 2688.2395\n",
      "Epoch 15 | Train Loss 5265705.7174 | Val Loss 2699.1512  | Val MSE 14919845.0000, Val MAE 2699.3567\n",
      "Epoch 16 | Train Loss 5233236.7196 | Val Loss 2713.2245  | Val MSE 15065923.0000, Val MAE 2713.4436\n",
      "Epoch 17 | Train Loss 5162653.9719 | Val Loss 2721.4311  | Val MSE 15188740.0000, Val MAE 2721.3650\n",
      "Epoch 18 | Train Loss 5135209.8696 | Val Loss 2709.8310  | Val MSE 15075088.0000, Val MAE 2709.8647\n",
      "Epoch 19 | Train Loss 5126880.5255 | Val Loss 2716.2747  | Val MSE 15136049.0000, Val MAE 2716.2866\n",
      "Epoch 20 | Train Loss 5072494.5613 | Val Loss 2722.3980  | Val MSE 15328191.0000, Val MAE 2722.4514\n",
      "Epoch 21 | Train Loss 5052261.3220 | Val Loss 2737.6885  | Val MSE 15496240.0000, Val MAE 2737.7896\n",
      "Epoch 22 | Train Loss 5021526.0063 | Val Loss 2743.8120  | Val MSE 15460617.0000, Val MAE 2743.9592\n",
      "Epoch 23 | Train Loss 5020135.1529 | Val Loss 2737.0850  | Val MSE 15382386.0000, Val MAE 2737.2925\n",
      "Epoch 24 | Train Loss 4985403.6798 | Val Loss 2780.5229  | Val MSE 15840249.0000, Val MAE 2780.9102\n",
      "Epoch 25 | Train Loss 4953549.9836 | Val Loss 2745.9623  | Val MSE 15452014.0000, Val MAE 2746.1824\n",
      "Epoch 26 | Train Loss 4930414.4429 | Val Loss 2745.5931  | Val MSE 15436004.0000, Val MAE 2745.8489\n",
      "Epoch 27 | Train Loss 4961583.7865 | Val Loss 2771.6208  | Val MSE 15831221.0000, Val MAE 2771.8411\n",
      "Epoch 28 | Train Loss 4906383.5713 | Val Loss 2746.5172  | Val MSE 15423381.0000, Val MAE 2746.7505\n",
      "Epoch 29 | Train Loss 4875272.1976 | Val Loss 2761.6914  | Val MSE 15728200.0000, Val MAE 2762.1260\n",
      "Epoch 30 | Train Loss 4882453.0098 | Val Loss 2758.7103  | Val MSE 15621072.0000, Val MAE 2758.8928\n",
      "Epoch 31 | Train Loss 4884685.5810 | Val Loss 2776.6546  | Val MSE 15935538.0000, Val MAE 2776.8501\n",
      "Epoch 32 | Train Loss 4846333.9365 | Val Loss 2753.4083  | Val MSE 15555763.0000, Val MAE 2753.6711\n",
      "Epoch 33 | Train Loss 4813825.5983 | Val Loss 2788.7150  | Val MSE 15875799.0000, Val MAE 2788.9688\n",
      "Epoch 34 | Train Loss 4828124.4098 | Val Loss 2746.7113  | Val MSE 15520088.0000, Val MAE 2746.8521\n",
      "Epoch 35 | Train Loss 4813288.0709 | Val Loss 2760.1323  | Val MSE 15646834.0000, Val MAE 2760.3726\n",
      "Epoch 36 | Train Loss 4826602.6600 | Val Loss 2751.2119  | Val MSE 15577447.0000, Val MAE 2751.2722\n",
      "Epoch 37 | Train Loss 4773974.3178 | Val Loss 2769.2212  | Val MSE 15717291.0000, Val MAE 2769.3545\n",
      "Epoch 38 | Train Loss 4764695.8301 | Val Loss 2778.1067  | Val MSE 15820122.0000, Val MAE 2778.5247\n",
      "Epoch 39 | Train Loss 4760152.7223 | Val Loss 2770.2254  | Val MSE 15757310.0000, Val MAE 2770.5205\n",
      "Epoch 40 | Train Loss 4769152.6101 | Val Loss 2762.6373  | Val MSE 15737196.0000, Val MAE 2762.6736\n",
      "Epoch 41 | Train Loss 4753243.2541 | Val Loss 2775.7364  | Val MSE 15896780.0000, Val MAE 2775.9465\n",
      "Epoch 42 | Train Loss 4737852.5332 | Val Loss 2823.5797  | Val MSE 16305992.0000, Val MAE 2824.2139\n",
      "Epoch 43 | Train Loss 4736467.6781 | Val Loss 2825.9697  | Val MSE 16457916.0000, Val MAE 2826.3713\n",
      "Epoch 44 | Train Loss 4716755.8241 | Val Loss 2775.8800  | Val MSE 15872834.0000, Val MAE 2776.2378\n",
      "Epoch 45 | Train Loss 4695858.4464 | Val Loss 2809.2256  | Val MSE 16261585.0000, Val MAE 2809.5845\n",
      "Epoch 46 | Train Loss 4706873.6174 | Val Loss 2774.0694  | Val MSE 15818797.0000, Val MAE 2774.3303\n",
      "Epoch 47 | Train Loss 4704867.9358 | Val Loss 2783.6673  | Val MSE 16034303.0000, Val MAE 2783.8816\n",
      "Epoch 48 | Train Loss 4689538.6264 | Val Loss 2786.2612  | Val MSE 15946267.0000, Val MAE 2786.5850\n",
      "Epoch 49 | Train Loss 4687784.3905 | Val Loss 2799.8036  | Val MSE 16254630.0000, Val MAE 2800.1458\n",
      "Epoch 50 | Train Loss 4699521.1031 | Val Loss 2820.3698  | Val MSE 16317536.0000, Val MAE 2820.9810\n"
     ]
    }
   ],
   "source": [
    "# Training loop\n",
    "for epoch in range(num_epochs):\n",
    "    model.train()\n",
    "    train_losses = []\n",
    "    for series, target, mask in train_loader:\n",
    "        series = series.to(device)     # (batch, L, C)\n",
    "        target = target.to(device)     # (batch, H)\n",
    "        mask   = mask.to(device)       # (batch, L)\n",
    "\n",
    "        optimizer.zero_grad()\n",
    "        output = model(x_enc=series, input_mask=mask)  # forward pass # shape [B, 360] from forecasting head\n",
    "        # print(output.forecast.shape, target.shape)\n",
    "        # loss = mse_loss_fn(output.forecast, target)\n",
    "        loss = mse_loss_fn(output.forecast[:, 3, :], target)\n",
    "        loss.backward()\n",
    "\n",
    "        # torch.nn.utils.clip_grad_norm_(model.parameters(), max_grad_norm)\n",
    "        optimizer.step()\n",
    "        # scheduler.step()\n",
    "        \n",
    "        train_losses.append(loss.item())\n",
    "    avg_train_loss = np.mean(train_losses)\n",
    "\n",
    "    model.eval()\n",
    "    val_losses = []\n",
    "    metric_mse.reset(); metric_mae.reset()\n",
    "    with torch.no_grad():\n",
    "        for series, target, mask in val_loader:\n",
    "            series = series.to(device)     # (batch, L, C)\n",
    "            target = target.to(device)     # (batch, H)\n",
    "            mask   = mask.to(device)       # (batch, L)\n",
    "\n",
    "            output = model(x_enc=series, input_mask=mask)\n",
    "            val_loss = huber_loss_fn(output.forecast[:, 3, :], target)\n",
    "            val_losses.append(val_loss.item())\n",
    "            preds = output.forecast[:, 3, :].contiguous()\n",
    "            metric_mse(preds, target)\n",
    "            metric_mae(preds, target)\n",
    "    avg_val_loss = np.mean(val_losses)\n",
    "    val_mse = metric_mse.compute().item()\n",
    "    val_mae = metric_mae.compute().item()\n",
    "\n",
    "    print(f\"Epoch {epoch+1} | Train Loss {avg_train_loss:.4f} | Val Loss {avg_val_loss:.4f}  | Val MSE {val_mse:.4f}, Val MAE {val_mae:.4f}\")"
   ]
  },
  {
   "cell_type": "code",
   "execution_count": 36,
   "id": "b01c0a92",
   "metadata": {},
   "outputs": [
    {
     "name": "stdout",
     "output_type": "stream",
     "text": [
      "Test MSE: 33025484.0000, Test MAE: 4133.3789, Test Huber: 4135.6342\n"
     ]
    }
   ],
   "source": [
    "model.eval()\n",
    "test_losses = []\n",
    "metric_mse.reset(); metric_mae.reset()\n",
    "predicted_values = []\n",
    "target_values = []\n",
    "with torch.no_grad():\n",
    "    for series, target, mask in test_loader:\n",
    "        series, target, mask = series.to(device), target.to(device), mask.to(device)\n",
    "        output = model(x_enc=series, input_mask=mask)\n",
    "\n",
    "        preds = output.forecast[:, 3, :].contiguous()\n",
    "        metric_mse(preds, target)\n",
    "        metric_mae(preds, target)\n",
    "        \n",
    "        predicted_values = preds[-1].cpu()\n",
    "        target_values = target[-1].cpu()\n",
    "        \n",
    "        # For reporting Huber:\n",
    "        test_losses.append(huber_loss_fn(output.forecast[:, 3, :], target).item())\n",
    "test_mse = metric_mse.compute().item()\n",
    "test_mae = metric_mae.compute().item()\n",
    "test_huber = np.mean(test_losses)\n",
    "\n",
    "print(f\"Test MSE: {test_mse:.4f}, Test MAE: {test_mae:.4f}, Test Huber: {test_huber:.4f}\")\n"
   ]
  },
  {
   "cell_type": "code",
   "execution_count": 37,
   "id": "ac45d2be",
   "metadata": {},
   "outputs": [
    {
     "name": "stdout",
     "output_type": "stream",
     "text": [
      "torch.Size([360]) torch.Size([360])\n"
     ]
    }
   ],
   "source": [
    "print(predicted_values.shape, target_values.shape)"
   ]
  },
  {
   "cell_type": "code",
   "execution_count": 38,
   "id": "c3374774",
   "metadata": {},
   "outputs": [],
   "source": [
    "import matplotlib.pyplot as plt"
   ]
  },
  {
   "cell_type": "code",
   "execution_count": 39,
   "id": "e95a409f",
   "metadata": {},
   "outputs": [
    {
     "data": {
      "image/png": "[encoded data removed]",
      "text/plain": [
       "<Figure size 1200x600 with 1 Axes>"
      ]
     },
     "metadata": {},
     "output_type": "display_data"
    }
   ],
   "source": [
    "plt.figure(figsize=(12, 6))\n",
    "plt.plot(predicted_values, label='Predicted')\n",
    "plt.plot(target_values, label='Actual')\n",
    "plt.title('Predicted vs Actual Closing Prices')\n",
    "plt.legend()\n",
    "plt.show()"
   ]
  },
  {
   "cell_type": "code",
   "execution_count": null,
   "id": "5859b96e",
   "metadata": {},
   "outputs": [],
   "source": []
  }
 ],
 "metadata": {
  "kernelspec": {
   "display_name": "AI417-DL",
   "language": "python",
   "name": "python3"
  },
  "language_info": {
   "codemirror_mode": {
    "name": "ipython",
    "version": 3
   },
   "file_extension": ".py",
   "mimetype": "text/x-python",
   "name": "python",
   "nbconvert_exporter": "python",
   "pygments_lexer": "ipython3",
   "version": "3.10.16"
  }
 },
 "nbformat": 4,
 "nbformat_minor": 5
}
