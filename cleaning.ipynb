{
 "cells": [
  {
   "cell_type": "markdown",
   "id": "5f7dd362",
   "metadata": {},
   "source": [
    "# Bitcoin Price Predictor – AI306"
   ]
  },
  {
   "cell_type": "code",
   "execution_count": 22,
   "id": "9fa94f67",
   "metadata": {},
   "outputs": [
    {
     "name": "stdout",
     "output_type": "stream",
     "text": [
      "Requirement already satisfied: kagglehub in /home/mohammed/anaconda3/envs/Crypto/lib/python3.12/site-packages (0.3.4)\n",
      "Requirement already satisfied: packaging in /home/mohammed/anaconda3/envs/Crypto/lib/python3.12/site-packages (from kagglehub) (24.1)\n",
      "Requirement already satisfied: requests in /home/mohammed/anaconda3/envs/Crypto/lib/python3.12/site-packages (from kagglehub) (2.32.3)\n",
      "Requirement already satisfied: tqdm in /home/mohammed/anaconda3/envs/Crypto/lib/python3.12/site-packages (from kagglehub) (4.67.1)\n",
      "Requirement already satisfied: charset-normalizer<4,>=2 in /home/mohammed/anaconda3/envs/Crypto/lib/python3.12/site-packages (from requests->kagglehub) (3.3.2)\n",
      "Requirement already satisfied: idna<4,>=2.5 in /home/mohammed/anaconda3/envs/Crypto/lib/python3.12/site-packages (from requests->kagglehub) (3.7)\n",
      "Requirement already satisfied: urllib3<3,>=1.21.1 in /home/mohammed/anaconda3/envs/Crypto/lib/python3.12/site-packages (from requests->kagglehub) (2.2.3)\n",
      "Requirement already satisfied: certifi>=2017.4.17 in /home/mohammed/anaconda3/envs/Crypto/lib/python3.12/site-packages (from requests->kagglehub) (2024.8.30)\n"
     ]
    }
   ],
   "source": [
    "!pip install kagglehub"
   ]
  },
  {
   "cell_type": "code",
   "execution_count": 23,
   "id": "07cde7a1",
   "metadata": {},
   "outputs": [],
   "source": [
    "import kagglehub\n",
    "import shutil\n",
    "import os"
   ]
  },
  {
   "cell_type": "markdown",
   "id": "4c07bd5c",
   "metadata": {},
   "source": [
    "### Downloading the dataset"
   ]
  },
  {
   "cell_type": "code",
   "execution_count": 24,
   "id": "2990ce69",
   "metadata": {},
   "outputs": [
    {
     "name": "stdout",
     "output_type": "stream",
     "text": [
      "Warning: Looks like you're using an outdated `kagglehub` version, please consider updating (latest version: 0.3.12)\n",
      "Path to dataset files: /home/mohammed/.cache/kagglehub/datasets/mczielinski/bitcoin-historical-data/versions/216\n"
     ]
    }
   ],
   "source": [
    "# Download latest version\n",
    "path = kagglehub.dataset_download(\"mczielinski/bitcoin-historical-data\")\n",
    "\n",
    "print(\"Path to dataset files:\", path)"
   ]
  },
  {
   "cell_type": "markdown",
   "id": "840081dd",
   "metadata": {},
   "source": [
    "### Copying the dataset to the project directory"
   ]
  },
  {
   "cell_type": "code",
   "execution_count": 25,
   "id": "f9fbda39",
   "metadata": {},
   "outputs": [
    {
     "name": "stdout",
     "output_type": "stream",
     "text": [
      "File copied successfully.\n"
     ]
    }
   ],
   "source": [
    "# Source and destination paths\n",
    "source_path = os.path.join(path, 'btcusd_1-min_data.csv')\n",
    "destination_path = './data/btcusd_dataset.csv'\n",
    "\n",
    "# Create destination directory if it doesn't exist\n",
    "os.makedirs('./data', exist_ok=True)\n",
    "\n",
    "# Copy the file\n",
    "shutil.copy(source_path, destination_path)\n",
    "\n",
    "print(\"File copied successfully.\")\n"
   ]
  },
  {
   "cell_type": "code",
   "execution_count": null,
   "id": "6885f6bf",
   "metadata": {},
   "outputs": [],
   "source": []
  }
 ],
 "metadata": {
  "kernelspec": {
   "display_name": "Crypto",
   "language": "python",
   "name": "python3"
  },
  "language_info": {
   "codemirror_mode": {
    "name": "ipython",
    "version": 3
   },
   "file_extension": ".py",
   "mimetype": "text/x-python",
   "name": "python",
   "nbconvert_exporter": "python",
   "pygments_lexer": "ipython3",
   "version": "3.12.7"
  }
 },
 "nbformat": 4,
 "nbformat_minor": 5
}
